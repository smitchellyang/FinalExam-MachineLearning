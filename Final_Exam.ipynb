{
 "cells": [
  {
   "cell_type": "code",
   "execution_count": 51,
   "id": "1b0cc9fd",
   "metadata": {},
   "outputs": [],
   "source": [
    "import pandas as pd\n",
    "import numpy as np\n",
    "\n",
    "from sklearn.model_selection import GridSearchCV\n",
    "from sklearn.model_selection import train_test_split\n",
    "from sklearn.metrics import accuracy_score\n",
    "\n",
    "# Image analysis\n",
    "from skimage.transform import resize\n",
    "from skimage.io import imread\n",
    "\n",
    "import os  # Allows for python to move folders within the Operating System\n",
    "import matplotlib.pyplot as plt\n",
    "\n",
    "import warnings\n",
    "warnings.filterwarnings('ignore')\n",
    "\n",
    "import pickle"
   ]
  },
  {
   "cell_type": "code",
   "execution_count": 3,
   "id": "e7194908",
   "metadata": {},
   "outputs": [
    {
     "name": "stdout",
     "output_type": "stream",
     "text": [
      "loading... category:  ChickenHead\n",
      "loaded category  ChickenHead sucessfully\n",
      "\n",
      "loading... category:  ElephantHead\n",
      "loaded category  ElephantHead sucessfully\n",
      "\n"
     ]
    }
   ],
   "source": [
    "# Loading Images into Console\n",
    "datadir = 'Images/'\n",
    "categories = ['ChickenHead', 'ElephantHead']\n",
    "\n",
    "flat_data_arr = []\n",
    "target_arr = []\n",
    "\n",
    "for i in categories:\n",
    "    print('loading... category: ', i)\n",
    "    path = os.path.join(datadir, i)\n",
    "    #print(path)\n",
    "    for img in os.listdir(path):\n",
    "        #print(img)\n",
    "        img_array = imread(os.path.join(path, img))\n",
    "        img_resized = resize(img_array, (150, 150, 3))\n",
    "        flat_data_arr.append(img_resized.flatten())\n",
    "        target_arr.append(categories.index(i))\n",
    "    print(\"loaded category \", i, \"sucessfully\\n\")"
   ]
  },
  {
   "cell_type": "code",
   "execution_count": 4,
   "id": "43782c5f",
   "metadata": {},
   "outputs": [
    {
     "data": {
      "text/html": [
       "<div>\n",
       "<style scoped>\n",
       "    .dataframe tbody tr th:only-of-type {\n",
       "        vertical-align: middle;\n",
       "    }\n",
       "\n",
       "    .dataframe tbody tr th {\n",
       "        vertical-align: top;\n",
       "    }\n",
       "\n",
       "    .dataframe thead th {\n",
       "        text-align: right;\n",
       "    }\n",
       "</style>\n",
       "<table border=\"1\" class=\"dataframe\">\n",
       "  <thead>\n",
       "    <tr style=\"text-align: right;\">\n",
       "      <th></th>\n",
       "      <th>0</th>\n",
       "      <th>1</th>\n",
       "      <th>2</th>\n",
       "      <th>3</th>\n",
       "      <th>4</th>\n",
       "      <th>5</th>\n",
       "      <th>6</th>\n",
       "      <th>7</th>\n",
       "      <th>8</th>\n",
       "      <th>9</th>\n",
       "      <th>...</th>\n",
       "      <th>67491</th>\n",
       "      <th>67492</th>\n",
       "      <th>67493</th>\n",
       "      <th>67494</th>\n",
       "      <th>67495</th>\n",
       "      <th>67496</th>\n",
       "      <th>67497</th>\n",
       "      <th>67498</th>\n",
       "      <th>67499</th>\n",
       "      <th>Target</th>\n",
       "    </tr>\n",
       "  </thead>\n",
       "  <tbody>\n",
       "    <tr>\n",
       "      <th>0</th>\n",
       "      <td>0.258824</td>\n",
       "      <td>0.258824</td>\n",
       "      <td>0.219608</td>\n",
       "      <td>0.231373</td>\n",
       "      <td>0.231373</td>\n",
       "      <td>0.192157</td>\n",
       "      <td>0.168627</td>\n",
       "      <td>0.168627</td>\n",
       "      <td>0.129412</td>\n",
       "      <td>0.180392</td>\n",
       "      <td>...</td>\n",
       "      <td>0.321569</td>\n",
       "      <td>0.321569</td>\n",
       "      <td>0.290196</td>\n",
       "      <td>0.301961</td>\n",
       "      <td>0.301961</td>\n",
       "      <td>0.270588</td>\n",
       "      <td>0.290196</td>\n",
       "      <td>0.290196</td>\n",
       "      <td>0.258824</td>\n",
       "      <td>0</td>\n",
       "    </tr>\n",
       "    <tr>\n",
       "      <th>1</th>\n",
       "      <td>0.121569</td>\n",
       "      <td>0.227451</td>\n",
       "      <td>0.105882</td>\n",
       "      <td>0.129412</td>\n",
       "      <td>0.227451</td>\n",
       "      <td>0.113725</td>\n",
       "      <td>0.176471</td>\n",
       "      <td>0.254902</td>\n",
       "      <td>0.149020</td>\n",
       "      <td>0.219608</td>\n",
       "      <td>...</td>\n",
       "      <td>0.784314</td>\n",
       "      <td>0.670588</td>\n",
       "      <td>0.513725</td>\n",
       "      <td>0.772549</td>\n",
       "      <td>0.658824</td>\n",
       "      <td>0.501961</td>\n",
       "      <td>0.768627</td>\n",
       "      <td>0.654902</td>\n",
       "      <td>0.498039</td>\n",
       "      <td>0</td>\n",
       "    </tr>\n",
       "    <tr>\n",
       "      <th>2</th>\n",
       "      <td>0.415686</td>\n",
       "      <td>0.698039</td>\n",
       "      <td>0.258824</td>\n",
       "      <td>0.384314</td>\n",
       "      <td>0.666667</td>\n",
       "      <td>0.235294</td>\n",
       "      <td>0.349020</td>\n",
       "      <td>0.619608</td>\n",
       "      <td>0.203922</td>\n",
       "      <td>0.321569</td>\n",
       "      <td>...</td>\n",
       "      <td>0.423529</td>\n",
       "      <td>0.615686</td>\n",
       "      <td>0.266667</td>\n",
       "      <td>0.435294</td>\n",
       "      <td>0.627451</td>\n",
       "      <td>0.270588</td>\n",
       "      <td>0.380392</td>\n",
       "      <td>0.572549</td>\n",
       "      <td>0.215686</td>\n",
       "      <td>0</td>\n",
       "    </tr>\n",
       "    <tr>\n",
       "      <th>3</th>\n",
       "      <td>0.000000</td>\n",
       "      <td>0.000000</td>\n",
       "      <td>0.000000</td>\n",
       "      <td>0.000000</td>\n",
       "      <td>0.000000</td>\n",
       "      <td>0.000000</td>\n",
       "      <td>0.000000</td>\n",
       "      <td>0.000000</td>\n",
       "      <td>0.000000</td>\n",
       "      <td>0.000000</td>\n",
       "      <td>...</td>\n",
       "      <td>0.000000</td>\n",
       "      <td>0.000000</td>\n",
       "      <td>0.000000</td>\n",
       "      <td>0.000000</td>\n",
       "      <td>0.000000</td>\n",
       "      <td>0.000000</td>\n",
       "      <td>0.000000</td>\n",
       "      <td>0.000000</td>\n",
       "      <td>0.000000</td>\n",
       "      <td>0</td>\n",
       "    </tr>\n",
       "    <tr>\n",
       "      <th>4</th>\n",
       "      <td>0.784314</td>\n",
       "      <td>0.729412</td>\n",
       "      <td>0.623529</td>\n",
       "      <td>0.776471</td>\n",
       "      <td>0.721569</td>\n",
       "      <td>0.615686</td>\n",
       "      <td>0.737255</td>\n",
       "      <td>0.682353</td>\n",
       "      <td>0.576471</td>\n",
       "      <td>0.690196</td>\n",
       "      <td>...</td>\n",
       "      <td>0.717647</td>\n",
       "      <td>0.643137</td>\n",
       "      <td>0.517647</td>\n",
       "      <td>0.725490</td>\n",
       "      <td>0.650980</td>\n",
       "      <td>0.525490</td>\n",
       "      <td>0.721569</td>\n",
       "      <td>0.647059</td>\n",
       "      <td>0.521569</td>\n",
       "      <td>0</td>\n",
       "    </tr>\n",
       "  </tbody>\n",
       "</table>\n",
       "<p>5 rows × 67501 columns</p>\n",
       "</div>"
      ],
      "text/plain": [
       "          0         1         2         3         4         5         6  \\\n",
       "0  0.258824  0.258824  0.219608  0.231373  0.231373  0.192157  0.168627   \n",
       "1  0.121569  0.227451  0.105882  0.129412  0.227451  0.113725  0.176471   \n",
       "2  0.415686  0.698039  0.258824  0.384314  0.666667  0.235294  0.349020   \n",
       "3  0.000000  0.000000  0.000000  0.000000  0.000000  0.000000  0.000000   \n",
       "4  0.784314  0.729412  0.623529  0.776471  0.721569  0.615686  0.737255   \n",
       "\n",
       "          7         8         9  ...     67491     67492     67493     67494  \\\n",
       "0  0.168627  0.129412  0.180392  ...  0.321569  0.321569  0.290196  0.301961   \n",
       "1  0.254902  0.149020  0.219608  ...  0.784314  0.670588  0.513725  0.772549   \n",
       "2  0.619608  0.203922  0.321569  ...  0.423529  0.615686  0.266667  0.435294   \n",
       "3  0.000000  0.000000  0.000000  ...  0.000000  0.000000  0.000000  0.000000   \n",
       "4  0.682353  0.576471  0.690196  ...  0.717647  0.643137  0.517647  0.725490   \n",
       "\n",
       "      67495     67496     67497     67498     67499  Target  \n",
       "0  0.301961  0.270588  0.290196  0.290196  0.258824       0  \n",
       "1  0.658824  0.501961  0.768627  0.654902  0.498039       0  \n",
       "2  0.627451  0.270588  0.380392  0.572549  0.215686       0  \n",
       "3  0.000000  0.000000  0.000000  0.000000  0.000000       0  \n",
       "4  0.650980  0.525490  0.721569  0.647059  0.521569       0  \n",
       "\n",
       "[5 rows x 67501 columns]"
      ]
     },
     "execution_count": 4,
     "metadata": {},
     "output_type": "execute_result"
    }
   ],
   "source": [
    "# Converting images into numbers\n",
    "flat_data = np.array(flat_data_arr)\n",
    "target = np.array(target_arr)\n",
    "\n",
    "df = pd.DataFrame(flat_data)\n",
    "df['Target'] = target\n",
    "\n",
    "df.head()"
   ]
  },
  {
   "cell_type": "code",
   "execution_count": 5,
   "id": "d5f62136",
   "metadata": {},
   "outputs": [],
   "source": [
    "# Data Selection for Analysis\n",
    "X = df.values[:, :-1]\n",
    "Y = df.values[:, -1]\n",
    "\n",
    "# Data Splitting \n",
    "xtrain, xtest, ytrain, ytest, = train_test_split(X, Y, test_size=0.2, random_state=47)"
   ]
  },
  {
   "cell_type": "code",
   "execution_count": 45,
   "id": "246b9b26",
   "metadata": {},
   "outputs": [
    {
     "name": "stdout",
     "output_type": "stream",
     "text": [
      "loading... category:  testImages/\n",
      "chicken1.png\n",
      "chicken2.jpg\n",
      "chicken3.jpg\n",
      "elephent1.jpg\n",
      "elephent2.jpg\n",
      "loaded category  testImages/ sucessfully\n",
      "\n"
     ]
    }
   ],
   "source": [
    "# Loading Test Images into Console\n",
    "testdir = 'testImages/'\n",
    "\n",
    "flat_data_load = 0\n",
    "test_arr = []\n",
    "\n",
    "print('loading... category: ', testdir)\n",
    "path = os.path.join(testdir)\n",
    "#print(path)\n",
    "for img in os.listdir(path):\n",
    "    print(img)\n",
    "    img_array = imread(os.path.join(path, img))\n",
    "    img_resized = resize(img_array, (150, 150, 3))\n",
    "    flat_data_load = img_resized.flatten()\n",
    "    test_arr.append(flat_data_load.reshape(1, -1))\n",
    "    #print(test_arr[-1])\n",
    "print(\"loaded category \", testdir, \"sucessfully\\n\")"
   ]
  },
  {
   "cell_type": "markdown",
   "id": "40e533fd",
   "metadata": {},
   "source": [
    "__Random Forest__"
   ]
  },
  {
   "cell_type": "code",
   "execution_count": 60,
   "id": "94001ef1",
   "metadata": {},
   "outputs": [
    {
     "name": "stdout",
     "output_type": "stream",
     "text": [
      "{'n_estimators': 50}\n"
     ]
    }
   ],
   "source": [
    "from sklearn.ensemble import RandomForestClassifier\n",
    "rfc = RandomForestClassifier()\n",
    "param_grid = {'n_estimators':[20, 30, 40, 50, 60]}\n",
    "\n",
    "model = GridSearchCV(rfc, param_grid)\n",
    "model.fit(xtrain, ytrain)\n",
    "print(model.best_params_)"
   ]
  },
  {
   "cell_type": "code",
   "execution_count": 61,
   "id": "805c91ed",
   "metadata": {},
   "outputs": [
    {
     "name": "stdout",
     "output_type": "stream",
     "text": [
      "Train Accuracy:  1.0\n",
      "Test Accuracy:  0.925\n"
     ]
    }
   ],
   "source": [
    "param_grid = {'n_estimators':[50]}\n",
    "\n",
    "model = GridSearchCV(rfc, param_grid)\n",
    "model.fit(xtrain, ytrain)\n",
    "\n",
    "ypred_train = model.predict(xtrain)\n",
    "ypred_test = model.predict(xtest)\n",
    "print('Train Accuracy: ', accuracy_score(ypred_train, ytrain))\n",
    "print('Test Accuracy: ', accuracy_score(ypred_test, ytest))"
   ]
  },
  {
   "cell_type": "code",
   "execution_count": 62,
   "id": "9cf71536",
   "metadata": {},
   "outputs": [],
   "source": [
    "pickle.dump(model, open('rfcModel.pkl', 'wb'))"
   ]
  },
  {
   "cell_type": "code",
   "execution_count": 63,
   "id": "710de284",
   "metadata": {},
   "outputs": [],
   "source": [
    "model = pickle.load(open('rfcModel.pkl', 'rb'))"
   ]
  },
  {
   "cell_type": "code",
   "execution_count": 64,
   "id": "0bdc32e5",
   "metadata": {},
   "outputs": [
    {
     "name": "stdout",
     "output_type": "stream",
     "text": [
      "Image 1 Prediction: ChickenHead\n",
      "Image 2 Prediction: ChickenHead\n",
      "Image 3 Prediction: ChickenHead\n",
      "Image 4 Prediction: ElephantHead\n",
      "Image 5 Prediction: ElephantHead\n"
     ]
    }
   ],
   "source": [
    "testImgNum = 1\n",
    "for img in test_arr:\n",
    "    p = model.predict(img)\n",
    "    if p==0: print('Image', testImgNum, 'Prediction: ChickenHead')\n",
    "    else: print('Image', testImgNum, 'Prediction: ElephantHead')\n",
    "    testImgNum += 1"
   ]
  },
  {
   "cell_type": "markdown",
   "id": "32a63ed2",
   "metadata": {},
   "source": [
    "__SVM (Support Vector Machine)__"
   ]
  },
  {
   "cell_type": "code",
   "execution_count": 12,
   "id": "69a11d23",
   "metadata": {},
   "outputs": [
    {
     "name": "stdout",
     "output_type": "stream",
     "text": [
      "{'C': 0.1, 'gamma': 0.001, 'kernel': 'poly'}\n"
     ]
    }
   ],
   "source": [
    "from sklearn.svm import SVC\n",
    "svc = SVC()\n",
    "param_grid = {'C':[0.1, 1, 10, 100], 'gamma':[0.001, 0.01, 0.1, 1], 'kernel': ['rbf', 'poly']}\n",
    "\n",
    "model = GridSearchCV(svc, param_grid)\n",
    "model.fit(xtrain, ytrain)\n",
    "print(model.best_params_)"
   ]
  },
  {
   "cell_type": "code",
   "execution_count": 13,
   "id": "0c3db5b3",
   "metadata": {},
   "outputs": [
    {
     "name": "stdout",
     "output_type": "stream",
     "text": [
      "Train Accuracy:  1.0\n",
      "Test Accuracy:  0.95\n"
     ]
    }
   ],
   "source": [
    "param_grid = {'C':[0.1], 'gamma':[0.001], 'kernel': ['poly']}\n",
    "\n",
    "model = GridSearchCV(svc, param_grid)\n",
    "model.fit(xtrain, ytrain)\n",
    "\n",
    "ypred_train = model.predict(xtrain)\n",
    "ypred_test = model.predict(xtest)\n",
    "print('Train Accuracy: ', accuracy_score(ypred_train, ytrain))\n",
    "print('Test Accuracy: ', accuracy_score(ypred_test, ytest))"
   ]
  },
  {
   "cell_type": "code",
   "execution_count": 17,
   "id": "7668a123",
   "metadata": {},
   "outputs": [],
   "source": [
    "pickle.dump(model, open('svmModel.pkl', 'wb'))"
   ]
  },
  {
   "cell_type": "code",
   "execution_count": 18,
   "id": "7c1f1927",
   "metadata": {},
   "outputs": [],
   "source": [
    "model = pickle.load(open('svmModel.pkl', 'rb'))"
   ]
  },
  {
   "cell_type": "code",
   "execution_count": 44,
   "id": "0f832808",
   "metadata": {},
   "outputs": [
    {
     "name": "stdout",
     "output_type": "stream",
     "text": [
      "Image 1 Prediction: ElephantHead\n",
      "Image 2 Prediction: ChickenHead\n",
      "Image 3 Prediction: ChickenHead\n",
      "Image 4 Prediction: ElephantHead\n",
      "Image 5 Prediction: ElephantHead\n"
     ]
    }
   ],
   "source": [
    "testImgNum = 1\n",
    "for img in test_arr:\n",
    "    p = model.predict(img)\n",
    "    if p==0: print('Image', testImgNum, 'Prediction: ChickenHead')\n",
    "    else: print('Image', testImgNum, 'Prediction: ElephantHead')\n",
    "    testImgNum += 1"
   ]
  },
  {
   "cell_type": "markdown",
   "id": "439a46ec",
   "metadata": {},
   "source": [
    "__KNN__"
   ]
  },
  {
   "cell_type": "code",
   "execution_count": 52,
   "id": "cc9a49e2",
   "metadata": {},
   "outputs": [
    {
     "name": "stdout",
     "output_type": "stream",
     "text": [
      "{'n_neighbors': 4}\n"
     ]
    }
   ],
   "source": [
    "from sklearn.neighbors import KNeighborsClassifier\n",
    "param_grid = {'n_neighbors': [1, 2, 3, 4, 5]}\n",
    "knn = KNeighborsClassifier()\n",
    "\n",
    "model = GridSearchCV(knn, param_grid)\n",
    "model.fit(xtrain, ytrain)\n",
    "print(model.best_params_)"
   ]
  },
  {
   "cell_type": "code",
   "execution_count": 56,
   "id": "1e8c5729",
   "metadata": {},
   "outputs": [
    {
     "name": "stdout",
     "output_type": "stream",
     "text": [
      "Train Accuracy:  0.9625\n",
      "Test Accuracy:  0.875\n"
     ]
    }
   ],
   "source": [
    "param_grid = {'n_neighbors': [4]}\n",
    "\n",
    "model = GridSearchCV(knn, param_grid)\n",
    "model.fit(xtrain, ytrain)\n",
    "\n",
    "ypred_train = model.predict(xtrain)\n",
    "ypred_test = model.predict(xtest)\n",
    "print('Train Accuracy: ', accuracy_score(ypred_train, ytrain))\n",
    "print('Test Accuracy: ', accuracy_score(ypred_test, ytest))"
   ]
  },
  {
   "cell_type": "code",
   "execution_count": 57,
   "id": "aab2fec1",
   "metadata": {},
   "outputs": [],
   "source": [
    "pickle.dump(model, open('knnModel.pkl', 'wb'))"
   ]
  },
  {
   "cell_type": "code",
   "execution_count": 58,
   "id": "fe34463c",
   "metadata": {},
   "outputs": [],
   "source": [
    "model = pickle.load(open('knnModel.pkl', 'rb'))"
   ]
  },
  {
   "cell_type": "code",
   "execution_count": 59,
   "id": "f9cf6537",
   "metadata": {},
   "outputs": [
    {
     "name": "stdout",
     "output_type": "stream",
     "text": [
      "Image 1 Prediction: ChickenHead\n",
      "Image 2 Prediction: ChickenHead\n",
      "Image 3 Prediction: ChickenHead\n",
      "Image 4 Prediction: ElephantHead\n",
      "Image 5 Prediction: ChickenHead\n"
     ]
    }
   ],
   "source": [
    "testImgNum = 1\n",
    "for img in test_arr:\n",
    "    p = model.predict(img)\n",
    "    if p==0: print('Image', testImgNum, 'Prediction: ChickenHead')\n",
    "    else: print('Image', testImgNum, 'Prediction: ElephantHead')\n",
    "    testImgNum += 1"
   ]
  },
  {
   "cell_type": "markdown",
   "id": "930da2b5",
   "metadata": {},
   "source": [
    "__Neural Network__"
   ]
  },
  {
   "cell_type": "code",
   "execution_count": 78,
   "id": "0042e52a",
   "metadata": {},
   "outputs": [
    {
     "name": "stdout",
     "output_type": "stream",
     "text": [
      "{'activation': 'tanh', 'hidden_layer_sizes': 3, 'learning_rate': 'adaptive'}\n"
     ]
    }
   ],
   "source": [
    "from sklearn.neural_network import MLPClassifier\n",
    "nnet = MLPClassifier()\n",
    "param_grid = {'hidden_layer_sizes': [1, 2, 3], 'activation': ['relu', 'tanh'], 'learning_rate': ['constant', 'adaptive']}\n",
    "\n",
    "model = GridSearchCV(nnet, param_grid)\n",
    "model.fit(xtrain, ytrain)\n",
    "print(model.best_params_)"
   ]
  },
  {
   "cell_type": "code",
   "execution_count": 79,
   "id": "c9e83114",
   "metadata": {},
   "outputs": [
    {
     "name": "stdout",
     "output_type": "stream",
     "text": [
      "Train Accuracy:  0.475\n",
      "Test Accuracy:  0.6\n"
     ]
    }
   ],
   "source": [
    "param_grid = {'hidden_layer_sizes': [3], 'activation': ['tanh'], 'learning_rate': ['adaptive']}\n",
    "\n",
    "model = GridSearchCV(nnet, param_grid)\n",
    "model.fit(xtrain, ytrain)\n",
    "\n",
    "ypred_train = model.predict(xtrain)\n",
    "ypred_test = model.predict(xtest)\n",
    "print('Train Accuracy: ', accuracy_score(ypred_train, ytrain))\n",
    "print('Test Accuracy: ', accuracy_score(ypred_test, ytest))"
   ]
  },
  {
   "cell_type": "code",
   "execution_count": 80,
   "id": "3087eac3",
   "metadata": {},
   "outputs": [],
   "source": [
    "pickle.dump(model, open('neuralnetworkModel.pkl', 'wb'))"
   ]
  },
  {
   "cell_type": "code",
   "execution_count": 81,
   "id": "facc6073",
   "metadata": {},
   "outputs": [],
   "source": [
    "model = pickle.load(open('neuralnetworkModel.pkl', 'rb'))"
   ]
  },
  {
   "cell_type": "code",
   "execution_count": 82,
   "id": "d84af536",
   "metadata": {},
   "outputs": [
    {
     "name": "stdout",
     "output_type": "stream",
     "text": [
      "Image 1 Prediction: ChickenHead\n",
      "Image 2 Prediction: ChickenHead\n",
      "Image 3 Prediction: ChickenHead\n",
      "Image 4 Prediction: ChickenHead\n",
      "Image 5 Prediction: ChickenHead\n"
     ]
    }
   ],
   "source": [
    "testImgNum = 1\n",
    "for img in test_arr:\n",
    "    p = model.predict(img)\n",
    "    if p==0: print('Image', testImgNum, 'Prediction: ChickenHead')\n",
    "    else: print('Image', testImgNum, 'Prediction: ElephantHead')\n",
    "    testImgNum += 1"
   ]
  },
  {
   "cell_type": "markdown",
   "id": "7f04adbf",
   "metadata": {},
   "source": [
    "__Adaboost__"
   ]
  },
  {
   "cell_type": "code",
   "execution_count": null,
   "id": "a4d5245e",
   "metadata": {},
   "outputs": [],
   "source": [
    "from sklearn.ensemble import AdaBoostClassifier\n",
    "abc = AdaBoostClassifier()\n",
    "param_grid = {'n_estimators': [1, 2, 5, 8, 10], 'learning_rate': [0.1, 0.001, 0.0001, 0]}\n",
    "\n",
    "model = GridSearchCV(abc, param_grid)\n",
    "model.fit(xtrain, ytrain)\n",
    "print(model.best_params_)"
   ]
  },
  {
   "cell_type": "code",
   "execution_count": null,
   "id": "49856b72",
   "metadata": {},
   "outputs": [],
   "source": [
    "param_grid = {'n_estimators': [], 'learning_rate': []}\n",
    "\n",
    "model = GridSearchCV(abc, param_grid)\n",
    "model.fit(xtrain, ytrain)\n",
    "\n",
    "ypred_train = model.predict(xtrain)\n",
    "ypred_test = model.predict(xtest)\n",
    "print('Train Accuracy: ', accuracy_score(ypred_train, ytrain))\n",
    "print('Test Accuracy: ', accuracy_score(ypred_test, ytest))"
   ]
  },
  {
   "cell_type": "code",
   "execution_count": null,
   "id": "59b04c49",
   "metadata": {},
   "outputs": [],
   "source": [
    "pickle.dump(model, open('abcModel.pkl', 'wb'))"
   ]
  },
  {
   "cell_type": "code",
   "execution_count": null,
   "id": "b21ee05a",
   "metadata": {},
   "outputs": [],
   "source": [
    "model = pickle.load(open('abcModel.pkl', 'rb'))"
   ]
  },
  {
   "cell_type": "code",
   "execution_count": null,
   "id": "2a0fa96d",
   "metadata": {},
   "outputs": [],
   "source": [
    "testImgNum = 1\n",
    "for img in test_arr:\n",
    "    p = model.predict(img)\n",
    "    if p==0: print('Image', testImgNum, 'Prediction: ChickenHead')\n",
    "    else: print('Image', testImgNum, 'Prediction: ElephantHead')\n",
    "    testImgNum += 1"
   ]
  }
 ],
 "metadata": {
  "kernelspec": {
   "display_name": "Python 3 (ipykernel)",
   "language": "python",
   "name": "python3"
  },
  "language_info": {
   "codemirror_mode": {
    "name": "ipython",
    "version": 3
   },
   "file_extension": ".py",
   "mimetype": "text/x-python",
   "name": "python",
   "nbconvert_exporter": "python",
   "pygments_lexer": "ipython3",
   "version": "3.9.13"
  }
 },
 "nbformat": 4,
 "nbformat_minor": 5
}
